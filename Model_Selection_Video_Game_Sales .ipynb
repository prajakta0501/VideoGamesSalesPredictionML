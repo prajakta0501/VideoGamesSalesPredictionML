{
 "cells": [
  {
   "cell_type": "code",
   "execution_count": 1,
   "metadata": {},
   "outputs": [],
   "source": [
    "import pandas as pd\n",
    "import numpy as np\n",
    "import warnings\n",
    "warnings.filterwarnings('ignore')\n",
    "import matplotlib.pyplot as plt"
   ]
  },
  {
   "cell_type": "code",
   "execution_count": 2,
   "metadata": {},
   "outputs": [],
   "source": [
    "video_games_df= pd.read_csv('Cleaned_Video_Games.csv')"
   ]
  },
  {
   "cell_type": "code",
   "execution_count": 3,
   "metadata": {},
   "outputs": [
    {
     "data": {
      "text/html": [
       "<div>\n",
       "<style scoped>\n",
       "    .dataframe tbody tr th:only-of-type {\n",
       "        vertical-align: middle;\n",
       "    }\n",
       "\n",
       "    .dataframe tbody tr th {\n",
       "        vertical-align: top;\n",
       "    }\n",
       "\n",
       "    .dataframe thead th {\n",
       "        text-align: right;\n",
       "    }\n",
       "</style>\n",
       "<table border=\"1\" class=\"dataframe\">\n",
       "  <thead>\n",
       "    <tr style=\"text-align: right;\">\n",
       "      <th></th>\n",
       "      <th>name</th>\n",
       "      <th>platform</th>\n",
       "      <th>year_of_release</th>\n",
       "      <th>genre</th>\n",
       "      <th>publisher</th>\n",
       "      <th>na_sales</th>\n",
       "      <th>eu_sales</th>\n",
       "      <th>jp_sales</th>\n",
       "      <th>other_sales</th>\n",
       "      <th>global_sales</th>\n",
       "      <th>critic_score</th>\n",
       "      <th>critic_count</th>\n",
       "      <th>user_score</th>\n",
       "      <th>user_count</th>\n",
       "      <th>developer</th>\n",
       "      <th>rating</th>\n",
       "    </tr>\n",
       "  </thead>\n",
       "  <tbody>\n",
       "    <tr>\n",
       "      <th>0</th>\n",
       "      <td>Wii Sports</td>\n",
       "      <td>Wii</td>\n",
       "      <td>2006.0</td>\n",
       "      <td>Sports</td>\n",
       "      <td>Nintendo</td>\n",
       "      <td>41.36</td>\n",
       "      <td>28.96</td>\n",
       "      <td>3.77</td>\n",
       "      <td>8.45</td>\n",
       "      <td>82.53</td>\n",
       "      <td>76.000000</td>\n",
       "      <td>51.000000</td>\n",
       "      <td>8.000000</td>\n",
       "      <td>322.000000</td>\n",
       "      <td>Nintendo</td>\n",
       "      <td>E</td>\n",
       "    </tr>\n",
       "    <tr>\n",
       "      <th>1</th>\n",
       "      <td>Super Mario Bros.</td>\n",
       "      <td>NES</td>\n",
       "      <td>1985.0</td>\n",
       "      <td>Platform</td>\n",
       "      <td>Nintendo</td>\n",
       "      <td>29.08</td>\n",
       "      <td>3.58</td>\n",
       "      <td>6.81</td>\n",
       "      <td>0.77</td>\n",
       "      <td>40.24</td>\n",
       "      <td>68.964461</td>\n",
       "      <td>26.364855</td>\n",
       "      <td>7.099509</td>\n",
       "      <td>162.339575</td>\n",
       "      <td>Ubisoft</td>\n",
       "      <td>E</td>\n",
       "    </tr>\n",
       "    <tr>\n",
       "      <th>2</th>\n",
       "      <td>Mario Kart Wii</td>\n",
       "      <td>Wii</td>\n",
       "      <td>2008.0</td>\n",
       "      <td>Racing</td>\n",
       "      <td>Nintendo</td>\n",
       "      <td>15.68</td>\n",
       "      <td>12.76</td>\n",
       "      <td>3.79</td>\n",
       "      <td>3.29</td>\n",
       "      <td>35.52</td>\n",
       "      <td>82.000000</td>\n",
       "      <td>73.000000</td>\n",
       "      <td>8.300000</td>\n",
       "      <td>709.000000</td>\n",
       "      <td>Nintendo</td>\n",
       "      <td>E</td>\n",
       "    </tr>\n",
       "    <tr>\n",
       "      <th>3</th>\n",
       "      <td>Wii Sports Resort</td>\n",
       "      <td>Wii</td>\n",
       "      <td>2009.0</td>\n",
       "      <td>Sports</td>\n",
       "      <td>Nintendo</td>\n",
       "      <td>15.61</td>\n",
       "      <td>10.93</td>\n",
       "      <td>3.28</td>\n",
       "      <td>2.95</td>\n",
       "      <td>32.77</td>\n",
       "      <td>80.000000</td>\n",
       "      <td>73.000000</td>\n",
       "      <td>8.000000</td>\n",
       "      <td>192.000000</td>\n",
       "      <td>Nintendo</td>\n",
       "      <td>E</td>\n",
       "    </tr>\n",
       "    <tr>\n",
       "      <th>4</th>\n",
       "      <td>Pokemon Red/Pokemon Blue</td>\n",
       "      <td>GB</td>\n",
       "      <td>1996.0</td>\n",
       "      <td>Role-Playing</td>\n",
       "      <td>Nintendo</td>\n",
       "      <td>11.27</td>\n",
       "      <td>8.89</td>\n",
       "      <td>10.22</td>\n",
       "      <td>1.00</td>\n",
       "      <td>31.37</td>\n",
       "      <td>68.964461</td>\n",
       "      <td>26.364855</td>\n",
       "      <td>7.099509</td>\n",
       "      <td>162.339575</td>\n",
       "      <td>Ubisoft</td>\n",
       "      <td>E</td>\n",
       "    </tr>\n",
       "    <tr>\n",
       "      <th>...</th>\n",
       "      <td>...</td>\n",
       "      <td>...</td>\n",
       "      <td>...</td>\n",
       "      <td>...</td>\n",
       "      <td>...</td>\n",
       "      <td>...</td>\n",
       "      <td>...</td>\n",
       "      <td>...</td>\n",
       "      <td>...</td>\n",
       "      <td>...</td>\n",
       "      <td>...</td>\n",
       "      <td>...</td>\n",
       "      <td>...</td>\n",
       "      <td>...</td>\n",
       "      <td>...</td>\n",
       "      <td>...</td>\n",
       "    </tr>\n",
       "    <tr>\n",
       "      <th>16699</th>\n",
       "      <td>Samurai Warriors: Sanada Maru</td>\n",
       "      <td>PS3</td>\n",
       "      <td>2016.0</td>\n",
       "      <td>Action</td>\n",
       "      <td>Tecmo Koei</td>\n",
       "      <td>0.00</td>\n",
       "      <td>0.00</td>\n",
       "      <td>0.01</td>\n",
       "      <td>0.00</td>\n",
       "      <td>0.01</td>\n",
       "      <td>68.964461</td>\n",
       "      <td>26.364855</td>\n",
       "      <td>7.099509</td>\n",
       "      <td>162.339575</td>\n",
       "      <td>Ubisoft</td>\n",
       "      <td>E</td>\n",
       "    </tr>\n",
       "    <tr>\n",
       "      <th>16700</th>\n",
       "      <td>LMA Manager 2007</td>\n",
       "      <td>X360</td>\n",
       "      <td>2006.0</td>\n",
       "      <td>Sports</td>\n",
       "      <td>Codemasters</td>\n",
       "      <td>0.00</td>\n",
       "      <td>0.01</td>\n",
       "      <td>0.00</td>\n",
       "      <td>0.00</td>\n",
       "      <td>0.01</td>\n",
       "      <td>68.964461</td>\n",
       "      <td>26.364855</td>\n",
       "      <td>7.099509</td>\n",
       "      <td>162.339575</td>\n",
       "      <td>Ubisoft</td>\n",
       "      <td>E</td>\n",
       "    </tr>\n",
       "    <tr>\n",
       "      <th>16701</th>\n",
       "      <td>Haitaka no Psychedelica</td>\n",
       "      <td>PSV</td>\n",
       "      <td>2016.0</td>\n",
       "      <td>Adventure</td>\n",
       "      <td>Idea Factory</td>\n",
       "      <td>0.00</td>\n",
       "      <td>0.00</td>\n",
       "      <td>0.01</td>\n",
       "      <td>0.00</td>\n",
       "      <td>0.01</td>\n",
       "      <td>68.964461</td>\n",
       "      <td>26.364855</td>\n",
       "      <td>7.099509</td>\n",
       "      <td>162.339575</td>\n",
       "      <td>Ubisoft</td>\n",
       "      <td>E</td>\n",
       "    </tr>\n",
       "    <tr>\n",
       "      <th>16702</th>\n",
       "      <td>Spirits &amp; Spells</td>\n",
       "      <td>GBA</td>\n",
       "      <td>2003.0</td>\n",
       "      <td>Platform</td>\n",
       "      <td>Wanadoo</td>\n",
       "      <td>0.01</td>\n",
       "      <td>0.00</td>\n",
       "      <td>0.00</td>\n",
       "      <td>0.00</td>\n",
       "      <td>0.01</td>\n",
       "      <td>68.964461</td>\n",
       "      <td>26.364855</td>\n",
       "      <td>7.099509</td>\n",
       "      <td>162.339575</td>\n",
       "      <td>Ubisoft</td>\n",
       "      <td>E</td>\n",
       "    </tr>\n",
       "    <tr>\n",
       "      <th>16703</th>\n",
       "      <td>Winning Post 8 2016</td>\n",
       "      <td>PSV</td>\n",
       "      <td>2016.0</td>\n",
       "      <td>Simulation</td>\n",
       "      <td>Tecmo Koei</td>\n",
       "      <td>0.00</td>\n",
       "      <td>0.00</td>\n",
       "      <td>0.01</td>\n",
       "      <td>0.00</td>\n",
       "      <td>0.01</td>\n",
       "      <td>68.964461</td>\n",
       "      <td>26.364855</td>\n",
       "      <td>7.099509</td>\n",
       "      <td>162.339575</td>\n",
       "      <td>Ubisoft</td>\n",
       "      <td>E</td>\n",
       "    </tr>\n",
       "  </tbody>\n",
       "</table>\n",
       "<p>16704 rows × 16 columns</p>\n",
       "</div>"
      ],
      "text/plain": [
       "                                name platform  year_of_release         genre  \\\n",
       "0                         Wii Sports      Wii           2006.0        Sports   \n",
       "1                  Super Mario Bros.      NES           1985.0      Platform   \n",
       "2                     Mario Kart Wii      Wii           2008.0        Racing   \n",
       "3                  Wii Sports Resort      Wii           2009.0        Sports   \n",
       "4           Pokemon Red/Pokemon Blue       GB           1996.0  Role-Playing   \n",
       "...                              ...      ...              ...           ...   \n",
       "16699  Samurai Warriors: Sanada Maru      PS3           2016.0        Action   \n",
       "16700               LMA Manager 2007     X360           2006.0        Sports   \n",
       "16701        Haitaka no Psychedelica      PSV           2016.0     Adventure   \n",
       "16702               Spirits & Spells      GBA           2003.0      Platform   \n",
       "16703            Winning Post 8 2016      PSV           2016.0    Simulation   \n",
       "\n",
       "          publisher  na_sales  eu_sales  jp_sales  other_sales  global_sales  \\\n",
       "0          Nintendo     41.36     28.96      3.77         8.45         82.53   \n",
       "1          Nintendo     29.08      3.58      6.81         0.77         40.24   \n",
       "2          Nintendo     15.68     12.76      3.79         3.29         35.52   \n",
       "3          Nintendo     15.61     10.93      3.28         2.95         32.77   \n",
       "4          Nintendo     11.27      8.89     10.22         1.00         31.37   \n",
       "...             ...       ...       ...       ...          ...           ...   \n",
       "16699    Tecmo Koei      0.00      0.00      0.01         0.00          0.01   \n",
       "16700   Codemasters      0.00      0.01      0.00         0.00          0.01   \n",
       "16701  Idea Factory      0.00      0.00      0.01         0.00          0.01   \n",
       "16702       Wanadoo      0.01      0.00      0.00         0.00          0.01   \n",
       "16703    Tecmo Koei      0.00      0.00      0.01         0.00          0.01   \n",
       "\n",
       "       critic_score  critic_count  user_score  user_count developer rating  \n",
       "0         76.000000     51.000000    8.000000  322.000000  Nintendo      E  \n",
       "1         68.964461     26.364855    7.099509  162.339575   Ubisoft      E  \n",
       "2         82.000000     73.000000    8.300000  709.000000  Nintendo      E  \n",
       "3         80.000000     73.000000    8.000000  192.000000  Nintendo      E  \n",
       "4         68.964461     26.364855    7.099509  162.339575   Ubisoft      E  \n",
       "...             ...           ...         ...         ...       ...    ...  \n",
       "16699     68.964461     26.364855    7.099509  162.339575   Ubisoft      E  \n",
       "16700     68.964461     26.364855    7.099509  162.339575   Ubisoft      E  \n",
       "16701     68.964461     26.364855    7.099509  162.339575   Ubisoft      E  \n",
       "16702     68.964461     26.364855    7.099509  162.339575   Ubisoft      E  \n",
       "16703     68.964461     26.364855    7.099509  162.339575   Ubisoft      E  \n",
       "\n",
       "[16704 rows x 16 columns]"
      ]
     },
     "execution_count": 3,
     "metadata": {},
     "output_type": "execute_result"
    }
   ],
   "source": [
    "video_games_df"
   ]
  },
  {
   "cell_type": "code",
   "execution_count": 4,
   "metadata": {},
   "outputs": [],
   "source": [
    "import seaborn as sns"
   ]
  },
  {
   "cell_type": "code",
   "execution_count": 5,
   "metadata": {},
   "outputs": [],
   "source": [
    "cols = ['name','platform', 'genre', 'publisher', 'developer', 'rating']\n",
    "for col in cols:\n",
    "    uniques = video_games_df[col].value_counts().keys()\n",
    "    uniques_dict = {}\n",
    "    count = 0\n",
    "    for i in uniques:\n",
    "        uniques_dict[i] = count\n",
    "        count += 1\n",
    "\n",
    "    for k, v in uniques_dict.items():\n",
    "        video_games_df.loc[video_games_df[col] == k, col] = v"
   ]
  },
  {
   "cell_type": "code",
   "execution_count": 6,
   "metadata": {},
   "outputs": [],
   "source": [
    "df1 = video_games_df[['name','platform','genre','publisher','year_of_release','developer','global_sales']]\n",
    "df1 = df1.astype('float64')"
   ]
  },
  {
   "cell_type": "code",
   "execution_count": 7,
   "metadata": {},
   "outputs": [
    {
     "data": {
      "image/png": "[encoded data removed]",
      "text/plain": [
       "<Figure size 720x576 with 2 Axes>"
      ]
     },
     "metadata": {},
     "output_type": "display_data"
    }
   ],
   "source": [
    "mask = np.zeros_like(df1.corr())\n",
    "mask[np.triu_indices_from(mask)] = True\n",
    "cmap = sns.diverging_palette(600, 250, sep=20, as_cmap=True, s=85, l=15, n=20) # note: 680, 350/470\n",
    "with sns.axes_style(\"white\"):\n",
    "    fig, ax = plt.subplots(1,1, figsize=(10,8))\n",
    "    ax = sns.heatmap(df1.corr(), mask=mask, vmax=0.2, square=True, annot=True, fmt=\".2f\", cmap=cmap)"
   ]
  },
  {
   "cell_type": "markdown",
   "metadata": {},
   "source": [
    "After plotting this heatmap it can be observed that there is almost negligible correlation between the variables. Also, some variables have negative correlation too. But to get a broad understanding of the video-game market to see what types of games are preferred and which variables impact sales. These publishers and developers are in the business of making money and generating sales, so they want to see which variables are most important for sales of their video games. Ideally, the results of our analyses will help developers to decide in which platform, genre, or country to release their future video games."
   ]
  },
  {
   "cell_type": "markdown",
   "metadata": {},
   "source": [
    "Here, we expect platform, genre and critic score as important variables. The platform variable is used to see which video-game platform users were most profit-generating. This can be important for developers to know, as they may not want to release their games on all platforms.The genre category is another potentially important category for future game releases to decide which type of video game users want to play and critic score because many users decide on video games based on how good the reviews\n",
    "are, and the number of reviews indicates an inherent interest in the game."
   ]
  },
  {
   "cell_type": "markdown",
   "metadata": {},
   "source": [
    "## Label Encoding of Categorical features"
   ]
  },
  {
   "cell_type": "code",
   "execution_count": 8,
   "metadata": {},
   "outputs": [],
   "source": [
    "from sklearn.preprocessing import LabelEncoder\n",
    "data = video_games_df.copy()\n",
    "\n",
    "le = LabelEncoder()\n",
    "feature = ['platform','genre','critic_score']\n",
    "\n",
    "for col in feature:\n",
    "    data[col] = le.fit_transform(video_games_df[col])"
   ]
  },
  {
   "cell_type": "code",
   "execution_count": 9,
   "metadata": {},
   "outputs": [],
   "source": [
    "X= data[['genre','platform','critic_score','na_sales','eu_sales','jp_sales','other_sales']]\n",
    "y = data['global_sales']"
   ]
  },
  {
   "cell_type": "code",
   "execution_count": 10,
   "metadata": {},
   "outputs": [],
   "source": [
    "#train test split of data\n",
    "from sklearn.model_selection import train_test_split\n",
    "X_train, X_test, y_train, y_test = train_test_split(X, y, test_size=.3, random_state=2020)\n",
    "X_train.shape, y_train.shape, X_test.shape, y_test.shape\n",
    "\n",
    "al_dict={}"
   ]
  },
  {
   "cell_type": "code",
   "execution_count": 11,
   "metadata": {},
   "outputs": [
    {
     "data": {
      "text/html": [
       "<div>\n",
       "<style scoped>\n",
       "    .dataframe tbody tr th:only-of-type {\n",
       "        vertical-align: middle;\n",
       "    }\n",
       "\n",
       "    .dataframe tbody tr th {\n",
       "        vertical-align: top;\n",
       "    }\n",
       "\n",
       "    .dataframe thead th {\n",
       "        text-align: right;\n",
       "    }\n",
       "</style>\n",
       "<table border=\"1\" class=\"dataframe\">\n",
       "  <thead>\n",
       "    <tr style=\"text-align: right;\">\n",
       "      <th></th>\n",
       "      <th>genre</th>\n",
       "      <th>platform</th>\n",
       "      <th>critic_score</th>\n",
       "      <th>na_sales</th>\n",
       "      <th>eu_sales</th>\n",
       "      <th>jp_sales</th>\n",
       "      <th>other_sales</th>\n",
       "    </tr>\n",
       "  </thead>\n",
       "  <tbody>\n",
       "    <tr>\n",
       "      <th>2855</th>\n",
       "      <td>0</td>\n",
       "      <td>6</td>\n",
       "      <td>52</td>\n",
       "      <td>0.40</td>\n",
       "      <td>0.27</td>\n",
       "      <td>0.00</td>\n",
       "      <td>0.05</td>\n",
       "    </tr>\n",
       "    <tr>\n",
       "      <th>11250</th>\n",
       "      <td>5</td>\n",
       "      <td>9</td>\n",
       "      <td>53</td>\n",
       "      <td>0.06</td>\n",
       "      <td>0.02</td>\n",
       "      <td>0.00</td>\n",
       "      <td>0.00</td>\n",
       "    </tr>\n",
       "    <tr>\n",
       "      <th>7057</th>\n",
       "      <td>3</td>\n",
       "      <td>6</td>\n",
       "      <td>70</td>\n",
       "      <td>0.13</td>\n",
       "      <td>0.09</td>\n",
       "      <td>0.00</td>\n",
       "      <td>0.01</td>\n",
       "    </tr>\n",
       "    <tr>\n",
       "      <th>10528</th>\n",
       "      <td>0</td>\n",
       "      <td>6</td>\n",
       "      <td>52</td>\n",
       "      <td>0.06</td>\n",
       "      <td>0.04</td>\n",
       "      <td>0.00</td>\n",
       "      <td>0.01</td>\n",
       "    </tr>\n",
       "    <tr>\n",
       "      <th>14578</th>\n",
       "      <td>4</td>\n",
       "      <td>6</td>\n",
       "      <td>52</td>\n",
       "      <td>0.02</td>\n",
       "      <td>0.01</td>\n",
       "      <td>0.00</td>\n",
       "      <td>0.00</td>\n",
       "    </tr>\n",
       "    <tr>\n",
       "      <th>...</th>\n",
       "      <td>...</td>\n",
       "      <td>...</td>\n",
       "      <td>...</td>\n",
       "      <td>...</td>\n",
       "      <td>...</td>\n",
       "      <td>...</td>\n",
       "      <td>...</td>\n",
       "    </tr>\n",
       "    <tr>\n",
       "      <th>1661</th>\n",
       "      <td>9</td>\n",
       "      <td>2</td>\n",
       "      <td>60</td>\n",
       "      <td>0.42</td>\n",
       "      <td>0.46</td>\n",
       "      <td>0.15</td>\n",
       "      <td>0.18</td>\n",
       "    </tr>\n",
       "    <tr>\n",
       "      <th>11971</th>\n",
       "      <td>0</td>\n",
       "      <td>8</td>\n",
       "      <td>52</td>\n",
       "      <td>0.05</td>\n",
       "      <td>0.02</td>\n",
       "      <td>0.00</td>\n",
       "      <td>0.00</td>\n",
       "    </tr>\n",
       "    <tr>\n",
       "      <th>14966</th>\n",
       "      <td>9</td>\n",
       "      <td>6</td>\n",
       "      <td>52</td>\n",
       "      <td>0.01</td>\n",
       "      <td>0.01</td>\n",
       "      <td>0.00</td>\n",
       "      <td>0.00</td>\n",
       "    </tr>\n",
       "    <tr>\n",
       "      <th>7491</th>\n",
       "      <td>4</td>\n",
       "      <td>2</td>\n",
       "      <td>44</td>\n",
       "      <td>0.07</td>\n",
       "      <td>0.05</td>\n",
       "      <td>0.06</td>\n",
       "      <td>0.02</td>\n",
       "    </tr>\n",
       "    <tr>\n",
       "      <th>9056</th>\n",
       "      <td>3</td>\n",
       "      <td>5</td>\n",
       "      <td>52</td>\n",
       "      <td>0.00</td>\n",
       "      <td>0.00</td>\n",
       "      <td>0.14</td>\n",
       "      <td>0.00</td>\n",
       "    </tr>\n",
       "  </tbody>\n",
       "</table>\n",
       "<p>11692 rows × 7 columns</p>\n",
       "</div>"
      ],
      "text/plain": [
       "       genre  platform  critic_score  na_sales  eu_sales  jp_sales  \\\n",
       "2855       0         6            52      0.40      0.27      0.00   \n",
       "11250      5         9            53      0.06      0.02      0.00   \n",
       "7057       3         6            70      0.13      0.09      0.00   \n",
       "10528      0         6            52      0.06      0.04      0.00   \n",
       "14578      4         6            52      0.02      0.01      0.00   \n",
       "...      ...       ...           ...       ...       ...       ...   \n",
       "1661       9         2            60      0.42      0.46      0.15   \n",
       "11971      0         8            52      0.05      0.02      0.00   \n",
       "14966      9         6            52      0.01      0.01      0.00   \n",
       "7491       4         2            44      0.07      0.05      0.06   \n",
       "9056       3         5            52      0.00      0.00      0.14   \n",
       "\n",
       "       other_sales  \n",
       "2855          0.05  \n",
       "11250         0.00  \n",
       "7057          0.01  \n",
       "10528         0.01  \n",
       "14578         0.00  \n",
       "...            ...  \n",
       "1661          0.18  \n",
       "11971         0.00  \n",
       "14966         0.00  \n",
       "7491          0.02  \n",
       "9056          0.00  \n",
       "\n",
       "[11692 rows x 7 columns]"
      ]
     },
     "execution_count": 11,
     "metadata": {},
     "output_type": "execute_result"
    }
   ],
   "source": [
    "X_train"
   ]
  },
  {
   "cell_type": "code",
   "execution_count": 12,
   "metadata": {},
   "outputs": [
    {
     "data": {
      "text/plain": [
       "2855     0.72\n",
       "11250    0.09\n",
       "7057     0.23\n",
       "10528    0.10\n",
       "14578    0.03\n",
       "         ... \n",
       "1661     1.21\n",
       "11971    0.07\n",
       "14966    0.03\n",
       "7491     0.21\n",
       "9056     0.14\n",
       "Name: global_sales, Length: 11692, dtype: float64"
      ]
     },
     "execution_count": 12,
     "metadata": {},
     "output_type": "execute_result"
    }
   ],
   "source": [
    "y_train"
   ]
  },
  {
   "cell_type": "code",
   "execution_count": 13,
   "metadata": {},
   "outputs": [
    {
     "data": {
      "text/html": [
       "<div>\n",
       "<style scoped>\n",
       "    .dataframe tbody tr th:only-of-type {\n",
       "        vertical-align: middle;\n",
       "    }\n",
       "\n",
       "    .dataframe tbody tr th {\n",
       "        vertical-align: top;\n",
       "    }\n",
       "\n",
       "    .dataframe thead th {\n",
       "        text-align: right;\n",
       "    }\n",
       "</style>\n",
       "<table border=\"1\" class=\"dataframe\">\n",
       "  <thead>\n",
       "    <tr style=\"text-align: right;\">\n",
       "      <th></th>\n",
       "      <th>genre</th>\n",
       "      <th>platform</th>\n",
       "      <th>critic_score</th>\n",
       "      <th>na_sales</th>\n",
       "      <th>eu_sales</th>\n",
       "      <th>jp_sales</th>\n",
       "      <th>other_sales</th>\n",
       "    </tr>\n",
       "  </thead>\n",
       "  <tbody>\n",
       "    <tr>\n",
       "      <th>13293</th>\n",
       "      <td>1</td>\n",
       "      <td>10</td>\n",
       "      <td>62</td>\n",
       "      <td>0.04</td>\n",
       "      <td>0.01</td>\n",
       "      <td>0.00</td>\n",
       "      <td>0.00</td>\n",
       "    </tr>\n",
       "    <tr>\n",
       "      <th>11215</th>\n",
       "      <td>7</td>\n",
       "      <td>9</td>\n",
       "      <td>52</td>\n",
       "      <td>0.00</td>\n",
       "      <td>0.00</td>\n",
       "      <td>0.08</td>\n",
       "      <td>0.00</td>\n",
       "    </tr>\n",
       "    <tr>\n",
       "      <th>8246</th>\n",
       "      <td>1</td>\n",
       "      <td>9</td>\n",
       "      <td>54</td>\n",
       "      <td>0.12</td>\n",
       "      <td>0.05</td>\n",
       "      <td>0.00</td>\n",
       "      <td>0.00</td>\n",
       "    </tr>\n",
       "    <tr>\n",
       "      <th>3969</th>\n",
       "      <td>8</td>\n",
       "      <td>0</td>\n",
       "      <td>65</td>\n",
       "      <td>0.24</td>\n",
       "      <td>0.19</td>\n",
       "      <td>0.00</td>\n",
       "      <td>0.06</td>\n",
       "    </tr>\n",
       "    <tr>\n",
       "      <th>2671</th>\n",
       "      <td>6</td>\n",
       "      <td>6</td>\n",
       "      <td>52</td>\n",
       "      <td>0.18</td>\n",
       "      <td>0.12</td>\n",
       "      <td>0.42</td>\n",
       "      <td>0.05</td>\n",
       "    </tr>\n",
       "    <tr>\n",
       "      <th>...</th>\n",
       "      <td>...</td>\n",
       "      <td>...</td>\n",
       "      <td>...</td>\n",
       "      <td>...</td>\n",
       "      <td>...</td>\n",
       "      <td>...</td>\n",
       "      <td>...</td>\n",
       "    </tr>\n",
       "    <tr>\n",
       "      <th>353</th>\n",
       "      <td>4</td>\n",
       "      <td>0</td>\n",
       "      <td>66</td>\n",
       "      <td>1.93</td>\n",
       "      <td>1.22</td>\n",
       "      <td>0.03</td>\n",
       "      <td>0.44</td>\n",
       "    </tr>\n",
       "    <tr>\n",
       "      <th>2784</th>\n",
       "      <td>0</td>\n",
       "      <td>2</td>\n",
       "      <td>38</td>\n",
       "      <td>0.17</td>\n",
       "      <td>0.41</td>\n",
       "      <td>0.00</td>\n",
       "      <td>0.15</td>\n",
       "    </tr>\n",
       "    <tr>\n",
       "      <th>8009</th>\n",
       "      <td>6</td>\n",
       "      <td>2</td>\n",
       "      <td>44</td>\n",
       "      <td>0.14</td>\n",
       "      <td>0.03</td>\n",
       "      <td>0.00</td>\n",
       "      <td>0.02</td>\n",
       "    </tr>\n",
       "    <tr>\n",
       "      <th>11403</th>\n",
       "      <td>6</td>\n",
       "      <td>3</td>\n",
       "      <td>52</td>\n",
       "      <td>0.08</td>\n",
       "      <td>0.00</td>\n",
       "      <td>0.00</td>\n",
       "      <td>0.01</td>\n",
       "    </tr>\n",
       "    <tr>\n",
       "      <th>13126</th>\n",
       "      <td>0</td>\n",
       "      <td>0</td>\n",
       "      <td>52</td>\n",
       "      <td>0.00</td>\n",
       "      <td>0.00</td>\n",
       "      <td>0.05</td>\n",
       "      <td>0.00</td>\n",
       "    </tr>\n",
       "  </tbody>\n",
       "</table>\n",
       "<p>5012 rows × 7 columns</p>\n",
       "</div>"
      ],
      "text/plain": [
       "       genre  platform  critic_score  na_sales  eu_sales  jp_sales  \\\n",
       "13293      1        10            62      0.04      0.01      0.00   \n",
       "11215      7         9            52      0.00      0.00      0.08   \n",
       "8246       1         9            54      0.12      0.05      0.00   \n",
       "3969       8         0            65      0.24      0.19      0.00   \n",
       "2671       6         6            52      0.18      0.12      0.42   \n",
       "...      ...       ...           ...       ...       ...       ...   \n",
       "353        4         0            66      1.93      1.22      0.03   \n",
       "2784       0         2            38      0.17      0.41      0.00   \n",
       "8009       6         2            44      0.14      0.03      0.00   \n",
       "11403      6         3            52      0.08      0.00      0.00   \n",
       "13126      0         0            52      0.00      0.00      0.05   \n",
       "\n",
       "       other_sales  \n",
       "13293         0.00  \n",
       "11215         0.00  \n",
       "8246          0.00  \n",
       "3969          0.06  \n",
       "2671          0.05  \n",
       "...            ...  \n",
       "353           0.44  \n",
       "2784          0.15  \n",
       "8009          0.02  \n",
       "11403         0.01  \n",
       "13126         0.00  \n",
       "\n",
       "[5012 rows x 7 columns]"
      ]
     },
     "execution_count": 13,
     "metadata": {},
     "output_type": "execute_result"
    }
   ],
   "source": [
    "X_test"
   ]
  },
  {
   "cell_type": "code",
   "execution_count": 14,
   "metadata": {},
   "outputs": [
    {
     "data": {
      "text/plain": [
       "array([62, 52, 54, 65, 32, 67, 37, 30, 33, 38, 51, 74, 47, 70, 59, 58, 68,\n",
       "       17, 49, 55, 45, 22, 39, 56, 57, 48, 73, 64, 34, 43, 44, 71, 41, 60,\n",
       "       61, 35, 18, 50, 53, 72, 46, 63, 40, 79,  8, 66, 75, 42, 25, 15, 69,\n",
       "       28, 29, 26, 27, 13, 24, 36, 23, 78, 21, 31, 76, 19, 77, 82, 16, 81,\n",
       "       11, 80,  4,  9, 14, 12,  2, 20,  7,  6, 10], dtype=int64)"
      ]
     },
     "execution_count": 14,
     "metadata": {},
     "output_type": "execute_result"
    }
   ],
   "source": [
    "X_test.critic_score.unique()"
   ]
  },
  {
   "cell_type": "code",
   "execution_count": 15,
   "metadata": {},
   "outputs": [
    {
     "data": {
      "text/plain": [
       "array([10,  9,  0,  6,  3,  7,  5, 11, 16,  1,  2, 19, 15, 18, 13,  4,  8,\n",
       "       22, 12, 14, 23, 21, 17, 20, 25, 24, 27, 26, 29, 30])"
      ]
     },
     "execution_count": 15,
     "metadata": {},
     "output_type": "execute_result"
    }
   ],
   "source": [
    "X_test.platform.unique()"
   ]
  },
  {
   "cell_type": "code",
   "execution_count": 16,
   "metadata": {},
   "outputs": [
    {
     "data": {
      "text/plain": [
       "13293    0.05\n",
       "11215    0.09\n",
       "8246     0.17\n",
       "3969     0.50\n",
       "2671     0.76\n",
       "         ... \n",
       "353      3.61\n",
       "2784     0.73\n",
       "8009     0.18\n",
       "11403    0.08\n",
       "13126    0.05\n",
       "Name: global_sales, Length: 5012, dtype: float64"
      ]
     },
     "execution_count": 16,
     "metadata": {},
     "output_type": "execute_result"
    }
   ],
   "source": [
    "y_test"
   ]
  },
  {
   "cell_type": "markdown",
   "metadata": {},
   "source": [
    "## Best Fit Line drawn using Linear Regression"
   ]
  },
  {
   "cell_type": "markdown",
   "metadata": {},
   "source": [
    "Linear Regression is a supervised machine learning algorithm where the predicted output is continuous and has a constant slope. It is a statistical method that is used for predictive analysis. It's used to predict values within a continuous range."
   ]
  },
  {
   "cell_type": "code",
   "execution_count": 17,
   "metadata": {},
   "outputs": [],
   "source": [
    "from sklearn.linear_model import LinearRegression\n",
    "\n",
    "clf = LinearRegression()\n",
    "\n",
    "#training the model using the feature and label\n",
    "clf.fit(X_train,y_train)\n",
    "\n",
    "#making predictions on the test data\n",
    "predicted = clf.predict(X_test)\n",
    "expected = y_test\n"
   ]
  },
  {
   "cell_type": "code",
   "execution_count": 18,
   "metadata": {},
   "outputs": [
    {
     "data": {
      "image/png": "[encoded data removed]",
      "text/plain": [
       "<Figure size 360x288 with 1 Axes>"
      ]
     },
     "metadata": {
      "needs_background": "light"
     },
     "output_type": "display_data"
    }
   ],
   "source": [
    "#plotting the best fit line\n",
    "\n",
    "plt.figure(figsize=(5,4))\n",
    "plt.scatter(expected,predicted)\n",
    "plt.plot([0,50],[0,50],'--k')\n",
    "plt.axis('tight')\n",
    "plt.xlabel('True value')\n",
    "plt.ylabel('Predicted value')\n",
    "plt.tight_layout()"
   ]
  },
  {
   "cell_type": "markdown",
   "metadata": {},
   "source": [
    "The Line of Best Fit is used to express a relationship in a scatter plot of different data points. It can be seen that there is very little scatter that is it is showing there is strong correlation between the variables. But this the limitation of linear regression it assumes that there is a straight-line relationship between them."
   ]
  },
  {
   "cell_type": "code",
   "execution_count": 19,
   "metadata": {},
   "outputs": [
    {
     "name": "stdout",
     "output_type": "stream",
     "text": [
      "Mean squared error: 2.7012550364028058e-05\n",
      "Mean absolute error: 0.0029022897692201448\n",
      "R2 score : 0.9999873817624272\n"
     ]
    }
   ],
   "source": [
    "from sklearn.metrics import mean_squared_error,mean_absolute_error,r2_score\n",
    "print(\"Mean squared error:\",  mean_squared_error(expected,predicted))\n",
    "print(\"Mean absolute error:\",mean_absolute_error(expected,predicted))\n",
    "\n",
    "clf_r2=r2_score(expected,predicted)\n",
    "al_dict[\"LinearRegression\"]=clf_r2\n",
    "print(\"R2 score :\", clf_r2)\n"
   ]
  },
  {
   "cell_type": "code",
   "execution_count": 20,
   "metadata": {},
   "outputs": [
    {
     "data": {
      "text/plain": [
       "array([0.77029778])"
      ]
     },
     "execution_count": 20,
     "metadata": {},
     "output_type": "execute_result"
    }
   ],
   "source": [
    "clf.predict([[6,6,52,0.18,0.12,0.42,0.05]])"
   ]
  },
  {
   "cell_type": "markdown",
   "metadata": {},
   "source": [
    "## K-nearest Neighbors Regressor"
   ]
  },
  {
   "cell_type": "markdown",
   "metadata": {},
   "source": [
    "KNN algorithm is a non-parametric method that can be used for both classification and regression problems. The KNN algorithm uses ‘feature similarity’ to predict the values of any new data points. This means that the new point is assigned a value based on how closely it resembles the points in the training set."
   ]
  },
  {
   "cell_type": "code",
   "execution_count": 21,
   "metadata": {},
   "outputs": [
    {
     "name": "stdout",
     "output_type": "stream",
     "text": [
      "Mean absolute error: 0.1996717877094972\n",
      "Mean_squared_error: 0.29279765063846774\n",
      "R2-Score: 0.8632268976186123\n"
     ]
    }
   ],
   "source": [
    "from sklearn.neighbors import KNeighborsRegressor\n",
    "from sklearn.metrics import mean_squared_error,mean_absolute_error,r2_score\n",
    "\n",
    "knn = KNeighborsRegressor(n_neighbors=2) \n",
    "knn.fit( X_train , y_train )\n",
    "y_pred = knn.predict(X_test)\n",
    "\n",
    "\n",
    "print(\"Mean absolute error:\",mean_absolute_error(y_test, y_pred))\n",
    "print(\"Mean_squared_error:\",mean_squared_error(y_test, y_pred))\n",
    "\n",
    "knn_r2=r2_score(y_test, y_pred)\n",
    "al_dict[\"KNeighborsRegressor\"]=knn_r2\n",
    "print(\"R2-Score:\",knn_r2)\n",
    "\n",
    "\n"
   ]
  },
  {
   "cell_type": "code",
   "execution_count": 22,
   "metadata": {},
   "outputs": [
    {
     "data": {
      "text/plain": [
       "array([0.41])"
      ]
     },
     "execution_count": 22,
     "metadata": {},
     "output_type": "execute_result"
    }
   ],
   "source": [
    "knn.predict([[6,6,52,0.18,0.12,0.42,0.05]])"
   ]
  },
  {
   "cell_type": "markdown",
   "metadata": {},
   "source": [
    "## Decision Tree Regressor"
   ]
  },
  {
   "cell_type": "markdown",
   "metadata": {},
   "source": [
    "A decision tree is a supervised machine learning model used to predict a target by learning decision rules from features. Decision tree regression observes features of an object and trains a model in the structure of a tree to predict data in the future to produce meaningful continuous output."
   ]
  },
  {
   "cell_type": "code",
   "execution_count": 23,
   "metadata": {},
   "outputs": [
    {
     "name": "stdout",
     "output_type": "stream",
     "text": [
      "{'max_depth': 15, 'min_samples_leaf': 5, 'min_samples_split': 5}\n",
      "DecisionTreeRegressor(max_depth=15, min_samples_leaf=5, min_samples_split=5,\n",
      "                      random_state=2020)\n",
      "Mean squared error: 0.29279765063846774\n",
      "Mean absolute error: 0.1996717877094972\n",
      "R2 Score 0.9160149563874432\n"
     ]
    }
   ],
   "source": [
    "depth_range = [3,4,5,6,7,8,9,10,11,12,15]\n",
    "minsplit_range = [5,10,20,25,30]\n",
    "minleaf_range = [5,10,15]\n",
    "\n",
    "parameters = dict(max_depth=depth_range,\n",
    "                  min_samples_split=minsplit_range, \n",
    "                  min_samples_leaf=minleaf_range)\n",
    "\n",
    "from sklearn.model_selection import KFold\n",
    "kfold = KFold(n_splits=5, random_state=2020,shuffle=True)\n",
    "\n",
    "from sklearn.tree import DecisionTreeRegressor\n",
    "\n",
    "from sklearn.model_selection import GridSearchCV\n",
    "clf = DecisionTreeRegressor(random_state=2020)\n",
    "cv = GridSearchCV(clf, param_grid=parameters,cv=kfold,scoring='r2')\n",
    "\n",
    "cv.fit(X,y)\n",
    "# Best Parameters\n",
    "print(cv.best_params_)\n",
    "best_model = cv.best_estimator_\n",
    "print(best_model)\n",
    "\n",
    "\n",
    "from sklearn.metrics import mean_squared_error,mean_absolute_error\n",
    "print(\"Mean squared error:\",mean_squared_error(y_test, y_pred))\n",
    "print(\"Mean absolute error:\",mean_absolute_error(y_test, y_pred))\n",
    "\n",
    "cv_r2=cv.best_score_\n",
    "al_dict[\"DecisionTreeRegressor\"]=cv_r2\n",
    "print(\"R2 Score\",cv.best_score_)\n"
   ]
  },
  {
   "cell_type": "code",
   "execution_count": 24,
   "metadata": {},
   "outputs": [
    {
     "data": {
      "text/plain": [
       "array([0.81555556])"
      ]
     },
     "execution_count": 24,
     "metadata": {},
     "output_type": "execute_result"
    }
   ],
   "source": [
    "cv.predict([[6,6,52,0.18,0.12,0.42,0.05]])"
   ]
  },
  {
   "cell_type": "markdown",
   "metadata": {},
   "source": [
    "## Random Forest Regressor"
   ]
  },
  {
   "cell_type": "markdown",
   "metadata": {},
   "source": [
    "A Random Forest is an ensemble technique capable of performing both regression and classification tasks with the use of multiple decision trees. The basic idea behind this is to combine multiple decision trees in determining the final output rather than relying on individual decision trees. The hyperparameters in random forest are either used to increase the predictive power of the model or to make the model faster."
   ]
  },
  {
   "cell_type": "code",
   "execution_count": 25,
   "metadata": {},
   "outputs": [
    {
     "name": "stdout",
     "output_type": "stream",
     "text": [
      "{'max_features': 5, 'n_estimators': 100}\n",
      "RandomForestRegressor(max_features=5, random_state=2020)\n",
      "Mean squared error: 0.29279765063846774\n",
      "Mean absolute error: 0.1996717877094972\n",
      "R2 Score 0.9457741283622431\n"
     ]
    }
   ],
   "source": [
    "from sklearn.model_selection import GridSearchCV\n",
    "from sklearn.ensemble import RandomForestRegressor\n",
    "\n",
    "import numpy as np\n",
    "parameters = {'max_features': np.arange(1,11),'n_estimators':[50,100]}\n",
    "\n",
    "from sklearn.model_selection import KFold\n",
    "kfold = KFold(n_splits=5, random_state=2020,shuffle=True)\n",
    "\n",
    "model_rf = RandomForestRegressor(random_state=2020)\n",
    "cv = GridSearchCV(model_rf, param_grid=parameters,\n",
    "                  cv=kfold,scoring='r2')\n",
    "\n",
    "cv.fit( X , y )\n",
    "\n",
    "results_df = pd.DataFrame(cv.cv_results_  )\n",
    "\n",
    "print(cv.best_params_)\n",
    "\n",
    "print(cv.best_estimator_)\n",
    "\n",
    "from sklearn.metrics import mean_squared_error,mean_absolute_error\n",
    "print(\"Mean squared error:\",mean_squared_error(y_test, y_pred))\n",
    "print(\"Mean absolute error:\",mean_absolute_error(y_test, y_pred))\n",
    "\n",
    "cv_r2=cv.best_score_\n",
    "al_dict[\"RandomForestRegressor\"]=cv_r2\n",
    "print(\"R2 Score\",cv.best_score_)\n",
    "\n"
   ]
  },
  {
   "cell_type": "code",
   "execution_count": 26,
   "metadata": {},
   "outputs": [
    {
     "data": {
      "text/plain": [
       "array([0.7522])"
      ]
     },
     "execution_count": 26,
     "metadata": {},
     "output_type": "execute_result"
    }
   ],
   "source": [
    "cv.predict([[6,6,52,0.18,0.12,0.42,0.05]])"
   ]
  },
  {
   "cell_type": "markdown",
   "metadata": {},
   "source": [
    "## Extreme Gradient Boosting Regressor"
   ]
  },
  {
   "cell_type": "markdown",
   "metadata": {},
   "source": [
    "XGBoost is a decision-tree-based ensemble Machine Learning algorithm that uses a gradient boosting framework.\n",
    "It is an efficient implementation of gradient boosting for classification and regression problems."
   ]
  },
  {
   "cell_type": "code",
   "execution_count": 27,
   "metadata": {},
   "outputs": [
    {
     "name": "stdout",
     "output_type": "stream",
     "text": [
      "mean absolute error: 0.029684816919875175\n",
      "Mean squared error: 0.05554200140789146\n",
      "R2 score: 0.974054942625176\n"
     ]
    }
   ],
   "source": [
    "from xgboost import XGBRegressor\n",
    "from sklearn.metrics import mean_squared_error,mean_absolute_error,r2_score\n",
    "\n",
    "xgb = XGBRegressor()\n",
    "xgb.fit(X_train,y_train)\n",
    "y_pred = xgb.predict(X_test)\n",
    "\n",
    "\n",
    "print(\"mean absolute error:\",mean_absolute_error(y_test, y_pred))\n",
    "print(\"Mean squared error:\",mean_squared_error(y_test, y_pred))\n",
    "\n",
    "xgb_r2=r2_score(y_test, y_pred)\n",
    "al_dict[\"XGBRegressor\"]=xgb_r2\n",
    "print(\"R2 score:\",xgb_r2)\n"
   ]
  },
  {
   "cell_type": "code",
   "execution_count": 28,
   "metadata": {},
   "outputs": [
    {
     "data": {
      "text/html": [
       "<div>\n",
       "<style scoped>\n",
       "    .dataframe tbody tr th:only-of-type {\n",
       "        vertical-align: middle;\n",
       "    }\n",
       "\n",
       "    .dataframe tbody tr th {\n",
       "        vertical-align: top;\n",
       "    }\n",
       "\n",
       "    .dataframe thead th {\n",
       "        text-align: right;\n",
       "    }\n",
       "</style>\n",
       "<table border=\"1\" class=\"dataframe\">\n",
       "  <thead>\n",
       "    <tr style=\"text-align: right;\">\n",
       "      <th></th>\n",
       "      <th>genre</th>\n",
       "      <th>platform</th>\n",
       "      <th>critic_score</th>\n",
       "      <th>na_sales</th>\n",
       "      <th>eu_sales</th>\n",
       "      <th>jp_sales</th>\n",
       "      <th>other_sales</th>\n",
       "    </tr>\n",
       "  </thead>\n",
       "  <tbody>\n",
       "    <tr>\n",
       "      <th>0</th>\n",
       "      <td>6</td>\n",
       "      <td>6</td>\n",
       "      <td>52</td>\n",
       "      <td>0.18</td>\n",
       "      <td>0.12</td>\n",
       "      <td>0.42</td>\n",
       "      <td>0.05</td>\n",
       "    </tr>\n",
       "  </tbody>\n",
       "</table>\n",
       "</div>"
      ],
      "text/plain": [
       "   genre  platform  critic_score  na_sales  eu_sales  jp_sales  other_sales\n",
       "0      6         6            52      0.18      0.12      0.42         0.05"
      ]
     },
     "execution_count": 28,
     "metadata": {},
     "output_type": "execute_result"
    }
   ],
   "source": [
    "gbm= pd.DataFrame([[6,6,52,0.18,0.12,0.42,0.05]],columns=X_test.columns)\n",
    "gbm\n",
    "#gbm= pd.DataFrame(X_test.iloc[5]).T"
   ]
  },
  {
   "cell_type": "code",
   "execution_count": 29,
   "metadata": {},
   "outputs": [
    {
     "data": {
      "text/plain": [
       "array([0.7982436], dtype=float32)"
      ]
     },
     "execution_count": 29,
     "metadata": {},
     "output_type": "execute_result"
    }
   ],
   "source": [
    "xgb.predict(gbm)"
   ]
  },
  {
   "cell_type": "markdown",
   "metadata": {},
   "source": [
    "## Voting Regressor"
   ]
  },
  {
   "cell_type": "markdown",
   "metadata": {},
   "source": [
    "A voting regressor is an ensemble meta-estimator that fits several base regressors, each on the whole dataset. Then it averages the individual predictions to form a final prediction. A voting ensemble involves summing the predictions made by classification models or averaging the predictions made by regression models."
   ]
  },
  {
   "cell_type": "code",
   "execution_count": 30,
   "metadata": {},
   "outputs": [
    {
     "name": "stdout",
     "output_type": "stream",
     "text": [
      "KNeighborsRegressor 0.8226062904578578\n",
      "DecisionTreeRegressor 0.9616235527034361\n",
      "LinearRegression 0.9999873817624272\n",
      "RandomForestRegressor 0.9740168614348449\n",
      "XGBRegressor 0.974054942625176\n",
      "VotingRegressor 0.9691186708823434\n"
     ]
    }
   ],
   "source": [
    "from sklearn.neighbors import KNeighborsRegressor\n",
    "from sklearn.tree import DecisionTreeRegressor\n",
    "from sklearn.ensemble import RandomForestRegressor\n",
    "from xgboost import XGBRegressor\n",
    "from sklearn.linear_model import LinearRegression\n",
    "\n",
    "from sklearn.ensemble import VotingRegressor\n",
    "\n",
    "knn = KNeighborsRegressor() \n",
    "dtr= DecisionTreeRegressor()\n",
    "lr = LinearRegression()\n",
    "rf= RandomForestRegressor(n_estimators=100, random_state=2020)\n",
    "xgb = XGBRegressor()\n",
    "\n",
    "# Average (by default voting= hard voting)\n",
    "voting = VotingRegressor(estimators=[('KNN',knn),('DTR',dtr),('LR',lr),('RF',rf),('XGB',xgb)])\n",
    "\n",
    "for reg in (knn,dtr,lr,rf,xgb,voting):\n",
    "    reg.fit(X_train,y_train)\n",
    "    y_pred = reg.predict(X_test)\n",
    "    print(reg.__class__.__name__,r2_score(y_test,y_pred))\n"
   ]
  },
  {
   "cell_type": "markdown",
   "metadata": {},
   "source": [
    "Though r2 score of linear regression is 0.99 it can't be said that model is good for prediction because it has some limitations such as: \n",
    "1) Linear regression only looks at linear relationships between dependent and independent variables. That is, it assumes there is a straight-line relationship between them. Sometimes this is incorrect.\n",
    "2) Linear regression looks at a relationship between the mean of the dependent variable and the independent variables. However, sometimes it need to look at the extremes of the dependent variable. Just as the mean is not a complete description of a single variable, linear regression is not a complete description of relationships among variables.\n",
    "3) The biggest limitation is the assumption of normality. It assumes that the sampling distribution is normally distributed. If this assumption is not met the results are not reliable, this is the largest source of error."
   ]
  },
  {
   "cell_type": "markdown",
   "metadata": {},
   "source": [
    "The r2-score of K-nearest neighbor,Decision tree, Random forest, xgboost, voting are 0.822, 0.607, 0.976, 0.974, 0.970 respectively. On the basis of voting model it can be observed that XGBoost Regressor model performs the best among them, with the result of 0.976. Compared with the other prediction models XGBoost regression model plays a prominent role in improving video game sales prediction accuracy in the field of large-scale product sales data."
   ]
  },
  {
   "cell_type": "code",
   "execution_count": 32,
   "metadata": {},
   "outputs": [
    {
     "name": "stdout",
     "output_type": "stream",
     "text": [
      "[99.99873817624272, 86.32268976186123, 91.60149563874432, 94.57741283622431, 97.4054942625176]\n"
     ]
    },
    {
     "data": {
      "image/png": "[encoded data removed]",
      "text/plain": [
       "<Figure size 864x432 with 1 Axes>"
      ]
     },
     "metadata": {},
     "output_type": "display_data"
    }
   ],
   "source": [
    "import seaborn as sns\n",
    "\n",
    "algo_name = list(al_dict.keys())\n",
    "R2_Score_list = list(al_dict.values())\n",
    "R2_pr_list=[]\n",
    "for i in R2_Score_list:\n",
    "    R2_pr_list.append(i*100)\n",
    "   \n",
    "print( R2_pr_list)\n",
    "\n",
    "sns.set(rc={'figure.figsize':(12,6)})\n",
    "\n",
    "with sns.color_palette(\"GnBu\", 5):\n",
    "    sns.barplot(x=algo_name,y=R2_Score_list)\n"
   ]
  }
 ],
 "metadata": {
  "kernelspec": {
   "display_name": "Python 3",
   "language": "python",
   "name": "python3"
  },
  "language_info": {
   "codemirror_mode": {
    "name": "ipython",
    "version": 3
   },
   "file_extension": ".py",
   "mimetype": "text/x-python",
   "name": "python",
   "nbconvert_exporter": "python",
   "pygments_lexer": "ipython3",
   "version": "3.8.3"
  }
 },
 "nbformat": 4,
 "nbformat_minor": 4
}
